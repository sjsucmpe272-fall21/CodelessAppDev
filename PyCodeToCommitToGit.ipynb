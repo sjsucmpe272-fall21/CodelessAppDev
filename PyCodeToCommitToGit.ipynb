{
 "cells": [
  {
   "cell_type": "code",
   "execution_count": 15,
   "id": "715ee419",
   "metadata": {},
   "outputs": [],
   "source": [
    "import base64\n",
    "import requests\n",
    "import json\n",
    "\n",
    "def push_to_github(filename, repo, branch, token, commitMsg):\n",
    "    url=\"https://api.github.com/repos/\"+repo+\"/contents/\"+filename\n",
    "\n",
    "    base64content=base64.b64encode(open(filename,\"rb\").read())\n",
    "\n",
    "    data = requests.get(url+'?ref='+branch, headers = {\"Authorization\": \"token \"+token}).json()\n",
    "\n",
    "    message = json.dumps({\"message\": commitMsg,\n",
    "                            \"branch\": branch,\n",
    "                            \"content\": base64content.decode(\"utf-8\") ,\n",
    "#                             \"sha\": sha\n",
    "                            })\n",
    "\n",
    "    resp=requests.put(url, data = message, headers = {\"Content-Type\": \"application/json\", \"Authorization\": \"token \"+token})\n",
    "\n",
    "    print('printing response...')\n",
    "    print(resp)"
   ]
  },
  {
   "cell_type": "code",
   "execution_count": 16,
   "id": "0b8908a3",
   "metadata": {},
   "outputs": [
    {
     "name": "stdout",
     "output_type": "stream",
     "text": [
      "printing response...\n",
      "<Response [201]>\n"
     ]
    }
   ],
   "source": [
    "token = \"\"\n",
    "filename=\"Button2.js\"\n",
    "repo = \"Aomkar/test-repo-272\"\n",
    "branch=\"master\"\n",
    "commitMsg = \"Git commit via python code\"\n",
    "\n",
    "push_to_github(filename, repo, branch, token, commitMsg)"
   ]
  }
 ],
 "metadata": {
  "kernelspec": {
   "display_name": "Python 3 (ipykernel)",
   "language": "python",
   "name": "python3"
  },
  "language_info": {
   "codemirror_mode": {
    "name": "ipython",
    "version": 3
   },
   "file_extension": ".py",
   "mimetype": "text/x-python",
   "name": "python",
   "nbconvert_exporter": "python",
   "pygments_lexer": "ipython3",
   "version": "3.8.10"
  }
 },
 "nbformat": 4,
 "nbformat_minor": 5
}
